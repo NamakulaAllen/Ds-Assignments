{
 "cells": [
  {
   "cell_type": "code",
   "execution_count": 3,
   "metadata": {},
   "outputs": [],
   "source": [
    "import pandas as pd"
   ]
  },
  {
   "cell_type": "code",
   "execution_count": 4,
   "metadata": {},
   "outputs": [
    {
     "name": "stdout",
     "output_type": "stream",
     "text": [
      "    S/N             student_names  age weight   height\n",
      "0     1            Adokorac Nancy   20     74    177.8\n",
      "1     2   Amutuhaire Faith Ahabwe   27     47   157.48\n",
      "2     3     KWAGALA JOANNA VICTOR   21     54   185.42\n",
      "3     4              mahoro cathy   23     30   185.42\n",
      "4     5  Mbabazi Hawa Bint Edrisa   19     59   175.26\n",
      "5     6       Nakanjako josephine   24     65   175.26\n",
      "6     7            Nanteza Dorcus   21     69   157.48\n",
      "7     8             Mbabazi Angel   19     57   167.64\n",
      "8     9            Namara Racheal   19     55   154.94\n",
      "9    10       Lwamulungi Sheillah   22     78   162.56\n",
      "10   11           Nakawuka Sandra   25     60   175.26\n",
      "11   12   Achola Gloria Fortunate   27     80   172.72\n",
      "12   13             Nagawa Esther   21     58   188.42\n",
      "13   14           wanjiku hananny   19     50    165.1\n",
      "14   15            babirye Sandra   21     50   175.26\n",
      "15   16          nakagga shanitah   21     50   175.26\n",
      "16   17    Wembabazi Vivian Ritah   20     49   160.02\n",
      "17   18   Nanziri Ritah Namayanja   23     70   162.56\n",
      "18   19            Nasejje Mariam   20     62    101.6\n",
      "19   20  Namukose Jolline Edriana   20     55   162.56\n",
      "20   21      Agatha Faith Anyango   27     55    93.98\n",
      "21   22              Kirabo Sarah   23     60    165.1\n",
      "22   23          Nansalire Anitah   21     45     63.5\n",
      "23   34             Nalugo gladys   19     70    101.6\n",
      "24   25            Namakula Allen   20     55   170.18\n",
      "25   26           Tukahirwa emily   22     67   175.26\n",
      "26   27            Shamirah Ahmed   21     67   137.16\n",
      "27   28          Ameso lmmaculate   23     64    165.1\n",
      "28   29                Ayoo Teddy   20     50   157.48\n",
      "29   30                Biira Mary   30     65   104.14\n",
      "30   31        Aloyo Brenda Ojera   23     52   170.18\n",
      "31   32        Ayebale Immaculate   24     50   162.56\n"
     ]
    }
   ],
   "source": [
    "df = pd.read_excel(r'C:\\Users\\Allen Namakula\\Desktop\\data science\\data\\dataset.xlsx')\n",
    "print(df)"
   ]
  },
  {
   "cell_type": "code",
   "execution_count": 5,
   "metadata": {},
   "outputs": [
    {
     "data": {
      "text/plain": [
       "pandas.core.frame.DataFrame"
      ]
     },
     "execution_count": 5,
     "metadata": {},
     "output_type": "execute_result"
    }
   ],
   "source": [
    "type(df)"
   ]
  },
  {
   "cell_type": "code",
   "execution_count": 6,
   "metadata": {},
   "outputs": [
    {
     "data": {
      "text/html": [
       "<div>\n",
       "<style scoped>\n",
       "    .dataframe tbody tr th:only-of-type {\n",
       "        vertical-align: middle;\n",
       "    }\n",
       "\n",
       "    .dataframe tbody tr th {\n",
       "        vertical-align: top;\n",
       "    }\n",
       "\n",
       "    .dataframe thead th {\n",
       "        text-align: right;\n",
       "    }\n",
       "</style>\n",
       "<table border=\"1\" class=\"dataframe\">\n",
       "  <thead>\n",
       "    <tr style=\"text-align: right;\">\n",
       "      <th></th>\n",
       "      <th>S/N</th>\n",
       "      <th>student_names</th>\n",
       "      <th>age</th>\n",
       "      <th>weight</th>\n",
       "      <th>height</th>\n",
       "    </tr>\n",
       "  </thead>\n",
       "  <tbody>\n",
       "    <tr>\n",
       "      <th>27</th>\n",
       "      <td>28</td>\n",
       "      <td>Ameso lmmaculate</td>\n",
       "      <td>23</td>\n",
       "      <td>64</td>\n",
       "      <td>165.1</td>\n",
       "    </tr>\n",
       "    <tr>\n",
       "      <th>28</th>\n",
       "      <td>29</td>\n",
       "      <td>Ayoo Teddy</td>\n",
       "      <td>20</td>\n",
       "      <td>50</td>\n",
       "      <td>157.48</td>\n",
       "    </tr>\n",
       "    <tr>\n",
       "      <th>29</th>\n",
       "      <td>30</td>\n",
       "      <td>Biira Mary</td>\n",
       "      <td>30</td>\n",
       "      <td>65</td>\n",
       "      <td>104.14</td>\n",
       "    </tr>\n",
       "    <tr>\n",
       "      <th>30</th>\n",
       "      <td>31</td>\n",
       "      <td>Aloyo Brenda Ojera</td>\n",
       "      <td>23</td>\n",
       "      <td>52</td>\n",
       "      <td>170.18</td>\n",
       "    </tr>\n",
       "    <tr>\n",
       "      <th>31</th>\n",
       "      <td>32</td>\n",
       "      <td>Ayebale Immaculate</td>\n",
       "      <td>24</td>\n",
       "      <td>50</td>\n",
       "      <td>162.56</td>\n",
       "    </tr>\n",
       "  </tbody>\n",
       "</table>\n",
       "</div>"
      ],
      "text/plain": [
       "    S/N       student_names  age weight   height\n",
       "27   28    Ameso lmmaculate   23     64    165.1\n",
       "28   29          Ayoo Teddy   20     50   157.48\n",
       "29   30          Biira Mary   30     65   104.14\n",
       "30   31  Aloyo Brenda Ojera   23     52   170.18\n",
       "31   32  Ayebale Immaculate   24     50   162.56"
      ]
     },
     "execution_count": 6,
     "metadata": {},
     "output_type": "execute_result"
    }
   ],
   "source": [
    "df.tail()"
   ]
  },
  {
   "cell_type": "code",
   "execution_count": 7,
   "metadata": {},
   "outputs": [
    {
     "data": {
      "text/html": [
       "<div>\n",
       "<style scoped>\n",
       "    .dataframe tbody tr th:only-of-type {\n",
       "        vertical-align: middle;\n",
       "    }\n",
       "\n",
       "    .dataframe tbody tr th {\n",
       "        vertical-align: top;\n",
       "    }\n",
       "\n",
       "    .dataframe thead th {\n",
       "        text-align: right;\n",
       "    }\n",
       "</style>\n",
       "<table border=\"1\" class=\"dataframe\">\n",
       "  <thead>\n",
       "    <tr style=\"text-align: right;\">\n",
       "      <th></th>\n",
       "      <th>S/N</th>\n",
       "      <th>student_names</th>\n",
       "      <th>age</th>\n",
       "      <th>weight</th>\n",
       "      <th>height</th>\n",
       "    </tr>\n",
       "  </thead>\n",
       "  <tbody>\n",
       "    <tr>\n",
       "      <th>0</th>\n",
       "      <td>1</td>\n",
       "      <td>Adokorac Nancy</td>\n",
       "      <td>20</td>\n",
       "      <td>74</td>\n",
       "      <td>177.8</td>\n",
       "    </tr>\n",
       "    <tr>\n",
       "      <th>1</th>\n",
       "      <td>2</td>\n",
       "      <td>Amutuhaire Faith Ahabwe</td>\n",
       "      <td>27</td>\n",
       "      <td>47</td>\n",
       "      <td>157.48</td>\n",
       "    </tr>\n",
       "    <tr>\n",
       "      <th>2</th>\n",
       "      <td>3</td>\n",
       "      <td>KWAGALA JOANNA VICTOR</td>\n",
       "      <td>21</td>\n",
       "      <td>54</td>\n",
       "      <td>185.42</td>\n",
       "    </tr>\n",
       "    <tr>\n",
       "      <th>3</th>\n",
       "      <td>4</td>\n",
       "      <td>mahoro cathy</td>\n",
       "      <td>23</td>\n",
       "      <td>30</td>\n",
       "      <td>185.42</td>\n",
       "    </tr>\n",
       "    <tr>\n",
       "      <th>4</th>\n",
       "      <td>5</td>\n",
       "      <td>Mbabazi Hawa Bint Edrisa</td>\n",
       "      <td>19</td>\n",
       "      <td>59</td>\n",
       "      <td>175.26</td>\n",
       "    </tr>\n",
       "  </tbody>\n",
       "</table>\n",
       "</div>"
      ],
      "text/plain": [
       "   S/N             student_names  age weight   height\n",
       "0    1            Adokorac Nancy   20     74    177.8\n",
       "1    2   Amutuhaire Faith Ahabwe   27     47   157.48\n",
       "2    3     KWAGALA JOANNA VICTOR   21     54   185.42\n",
       "3    4              mahoro cathy   23     30   185.42\n",
       "4    5  Mbabazi Hawa Bint Edrisa   19     59   175.26"
      ]
     },
     "execution_count": 7,
     "metadata": {},
     "output_type": "execute_result"
    }
   ],
   "source": [
    "df.head()"
   ]
  },
  {
   "cell_type": "code",
   "execution_count": 8,
   "metadata": {},
   "outputs": [
    {
     "name": "stdout",
     "output_type": "stream",
     "text": [
      "22.03125\n"
     ]
    }
   ],
   "source": [
    "# Calculating Mean\n",
    "MeanAge = df['age'].mean()\n",
    "print(MeanAge)"
   ]
  },
  {
   "cell_type": "code",
   "execution_count": 9,
   "metadata": {},
   "outputs": [
    {
     "name": "stdout",
     "output_type": "stream",
     "text": [
      "2.7648061823220904\n"
     ]
    }
   ],
   "source": [
    "# Standard deviation\n",
    "std_age = df['age'].std()\n",
    "print(std_age)"
   ]
  },
  {
   "cell_type": "code",
   "execution_count": 11,
   "metadata": {},
   "outputs": [
    {
     "name": "stdout",
     "output_type": "stream",
     "text": [
      "7.644153225806452\n"
     ]
    }
   ],
   "source": [
    "# Variance\n",
    "var_age = df['age'].var()\n",
    "print(var_age)"
   ]
  },
  {
   "cell_type": "code",
   "execution_count": 16,
   "metadata": {},
   "outputs": [],
   "source": [
    "#Weight\n",
    "df = df[pd.to_numeric(df['weight'],errors='coerce').notna()]"
   ]
  },
  {
   "cell_type": "code",
   "execution_count": 17,
   "metadata": {},
   "outputs": [
    {
     "name": "stdout",
     "output_type": "stream",
     "text": [
      "60.607142857142854\n"
     ]
    }
   ],
   "source": [
    "#  Mean Weight\n",
    "mean_weight = df['weight'].mean()\n",
    "print(mean_weight)"
   ]
  },
  {
   "cell_type": "code",
   "execution_count": 18,
   "metadata": {},
   "outputs": [
    {
     "name": "stdout",
     "output_type": "stream",
     "text": [
      "8.949815995270871\n"
     ]
    }
   ],
   "source": [
    "#Standard Deviation for Weight\n",
    "std_weight = df['weight'].std()\n",
    "print(std_weight)"
   ]
  },
  {
   "cell_type": "code",
   "execution_count": 19,
   "metadata": {},
   "outputs": [
    {
     "name": "stdout",
     "output_type": "stream",
     "text": [
      "80.09920634920634\n"
     ]
    }
   ],
   "source": [
    "# Variance for weight\n",
    "var_weight = df['weight'].var()\n",
    "print(var_weight)"
   ]
  },
  {
   "cell_type": "code",
   "execution_count": 20,
   "metadata": {},
   "outputs": [
    {
     "name": "stdout",
     "output_type": "stream",
     "text": [
      "166.37\n"
     ]
    }
   ],
   "source": [
    "# Calculating mean height\n",
    "df['height']=pd.to_numeric(df['height'],errors='coerce')\n",
    "mean_height=df['height'].mean()\n",
    "print(mean_height)"
   ]
  },
  {
   "cell_type": "code",
   "execution_count": 21,
   "metadata": {},
   "outputs": [
    {
     "name": "stdout",
     "output_type": "stream",
     "text": [
      "5.388153672641495\n"
     ]
    }
   ],
   "source": [
    "# Standard deviation for height\n",
    "std_height = df['height'].std()\n",
    "print(std_height)"
   ]
  },
  {
   "cell_type": "code",
   "execution_count": 22,
   "metadata": {},
   "outputs": [
    {
     "name": "stdout",
     "output_type": "stream",
     "text": [
      "29.032200000000035\n"
     ]
    }
   ],
   "source": [
    "# Variance for height\n",
    "var_height = df['height'].var()\n",
    "print(var_height)"
   ]
  }
 ],
 "metadata": {
  "kernelspec": {
   "display_name": "Python 3",
   "language": "python",
   "name": "python3"
  },
  "language_info": {
   "codemirror_mode": {
    "name": "ipython",
    "version": 3
   },
   "file_extension": ".py",
   "mimetype": "text/x-python",
   "name": "python",
   "nbconvert_exporter": "python",
   "pygments_lexer": "ipython3",
   "version": "3.11.5"
  },
  "orig_nbformat": 4
 },
 "nbformat": 4,
 "nbformat_minor": 2
}
